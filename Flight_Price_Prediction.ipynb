{
  "nbformat": 4,
  "nbformat_minor": 0,
  "metadata": {
    "colab": {
      "provenance": [],
      "private_outputs": true,
      "authorship_tag": "ABX9TyMLdYpOTuPKRcmU10OIRCY0",
      "include_colab_link": true
    },
    "kernelspec": {
      "name": "python3",
      "display_name": "Python 3"
    },
    "language_info": {
      "name": "python"
    },
    "accelerator": "GPU",
    "gpuClass": "standard"
  },
  "cells": [
    {
      "cell_type": "markdown",
      "metadata": {
        "id": "view-in-github",
        "colab_type": "text"
      },
      "source": [
        "<a href=\"https://colab.research.google.com/github/acrismail/flight_price/blob/main/Flight_Price_Prediction.ipynb\" target=\"_parent\"><img src=\"https://colab.research.google.com/assets/colab-badge.svg\" alt=\"Open In Colab\"/></a>"
      ]
    },
    {
      "cell_type": "markdown",
      "source": [
        "## INTRODUCTION\n",
        "\n",
        "* The objective of the study is to analyse the flight booking dataset obtained from “Ease My Trip” website and to conduct various statistical hypothesis tests in order to get meaningful information from it. The 'Linear Regression' statistical algorithm would be used to train the dataset and predict a continuous target variable. 'Easemytrip' is an internet platform for booking flight tickets, and hence a platform that potential passengers use to buy tickets. A thorough study of the data will aid in the discovery of valuable insights that will be of enormous value to passengers.\n",
        "\n",
        "### Research Questions\n",
        "\n",
        "The aim of our study is to answer the below research questions:\n",
        "* a) Does price vary with Airlines?\n",
        "* b) How is the price affected when tickets are bought in just 1 or 2 days before departure?\n",
        "* c) Does ticket price change based on the departure time and arrival time?\n",
        "* d) How the price changes with change in Source and Destination?\n",
        "* e) How does the ticket price vary between Economy and Business class?\n",
        "\n",
        "### DATA COLLECTION AND METHODOLOGY\n",
        "Octoparse scraping tool was used to extract data from the website. Data was collected in two parts: one for economy class tickets and another for business class tickets. A total of 300261 distinct flight booking options was extracted from the site. Data was collected for 50 days, from February 11th to March 31st, 2022.\n",
        "Data source was secondary data and was collected from Ease my trip website.\n",
        "\n",
        "### DATASET\n",
        "Dataset contains information about flight booking options from the website Easemytrip for flight travel between India's top 6 metro cities. There are 300261 datapoints and 11 features in the cleaned dataset.\n",
        "\n",
        "### FEATURES\n",
        "The various features of the cleaned dataset are explained below:\n",
        "* 1) Airline: The name of the airline company is stored in the airline column. It is a categorical feature having 6 different airlines.\n",
        "* 2) Flight: Flight stores information regarding the plane's flight code. It is a categorical feature.\n",
        "* 3) Source City: City from which the flight takes off. It is a categorical feature having 6 unique cities.\n",
        "* 4) Departure Time: This is a derived categorical feature obtained created by grouping time periods into bins. It stores information about the departure time and have 6 unique time labels.\n",
        "* 5) Stops: A categorical feature with 3 distinct values that stores the number of stops between the source and destination cities.\n",
        "* 6) Arrival Time: This is a derived categorical feature created by grouping time intervals into bins. It has six distinct time labels and keeps information about the arrival time.\n",
        "* 7) Destination City: City where the flight will land. It is a categorical feature having 6 unique cities.\n",
        "* 8) Class: A categorical feature that contains information on seat class; it has two distinct values: Business and Economy.\n",
        "* 9) Duration: A continuous feature that displays the overall amount of time it takes to travel between cities in hours.\n",
        "* 10)Days Left: This is a derived characteristic that is calculated by subtracting the trip date by the booking date.\n",
        "* 11) Price: Target variable stores information of the ticket price.\n",
        "\n",
        "\n",
        "\n",
        "\n",
        "## GİRİİŞ\n",
        "\n",
        "* Çalışmanın amacı, “Ease My Trip” web sitesinden elde edilen uçuş rezervasyonu veri setini analiz etmek ve buradan anlamlı bilgiler elde etmek için çeşitli istatistiksel hipotez testleri yapmaktır. Veri setini eğitmek ve sürekli bir hedef değişkeni tahmin etmek için 'Doğrusal Regresyon' istatistiksel algoritması kullanılacaktır. 'Easemytrip' uçak bileti rezervasyonu yapmak için bir internet platformudur ve dolayısıyla potansiyel yolcuların bilet satın almak için kullandıkları bir platformdur. Verilerin kapsamlı bir şekilde incelenmesi, yolcular için çok büyük değere sahip olacak değerli içgörülerin keşfedilmesine yardımcı olacaktır.\n",
        "\n",
        "### Araştırma soruları\n",
        "\n",
        "Çalışmamızın amacı aşağıdaki araştırma sorularını cevaplamaktır:\n",
        "* a) Havayollarına göre fiyat değişiyor mu?\n",
        "* b) Kalkışa 1 veya 2 gün kala bilet alındığında fiyat nasıl etkilenir?\n",
        "* c) Bilet fiyatı hareket saati ve varış saatine göre değişiyor mu?\n",
        "* d) Kaynak ve Hedefteki değişiklikle fiyat nasıl değişir?\n",
        "* e) Ekonomi ve Business sınıfı arasında bilet fiyatı nasıl değişiyor?\n",
        "\n",
        "### VERİ TOPLAMA VE METODOLOJİ\n",
        "Web sitesinden veri çıkarmak için Octoparse scraping aracı kullanıldı. Veriler, biri ekonomi sınıfı biletler için, diğeri ise iş sınıfı biletleri için olmak üzere iki kısımda toplanmıştır. Siteden toplam 300261 farklı uçuş rezervasyon seçeneği çıkarıldı. Veriler, 11 Şubat - 31 Mart 2022 tarihleri ​​arasında 50 gün boyunca toplandı.\n",
        "Veri kaynağı ikincil verilerdi ve Ease my trip web sitesinden toplandı.\n",
        "\n",
        "### VERİ SETİ\n",
        "Veri kümesi, Hindistan'ın en büyük 6 metro şehri arasında uçuş seyahati için Easemytrip web sitesinden uçuş rezervasyonu seçenekleri hakkında bilgi içerir. Temizlenen veri setinde 300261 veri noktası ve 11 özellik bulunmaktadır.\n",
        "\n",
        "### ÖZELLİKLERİ\n",
        "Temizlenen veri setinin çeşitli özellikleri aşağıda açıklanmıştır:\n",
        "* 1) Havayolu: Havayolu sütununda havayolu şirketinin adı tutulur. 6 farklı havayoluna sahip kategorik bir özelliktir.\n",
        "* 2) Flight: Flight, uçağın uçuş kodu ile ilgili bilgileri saklar. Kategorik bir özelliktir.\n",
        "* 3) Kaynak Şehir: Uçağın kalktığı şehir. 6 benzersiz şehre sahip kategorik bir özelliktir.\n",
        "* 4) Gidiş Saati: Bu, zaman dilimlerinin binlere gruplanmasıyla elde edilen türetilmiş bir kategorik özelliktir. Kalkış saatiyle ilgili bilgileri saklar ve 6 benzersiz zaman etiketine sahiptir.\n",
        "\n",
        "5) Duraklar: Kaynak ve hedef şehirler arasındaki durak sayısını saklayan 3 farklı değere sahip kategorik bir özellik.\n",
        "\n",
        "* 6) Varış Zamanı: Bu, zaman aralıklarının kutulara gruplanmasıyla oluşturulan türetilmiş bir kategorik özelliktir. Altı farklı zaman etiketine sahiptir ve varış zamanı ile ilgili bilgileri tutar.\n",
        "* 7) Varış Şehri: Uçağın ineceği şehir. 6 benzersiz şehre sahip kategorik bir özelliktir.\n",
        "* 8) Sınıf: Koltuk sınıfı hakkında bilgi içeren kategorik bir özellik; iki farklı değeri vardır: İşletme ve Ekonomi.\n",
        "* 9) Süre: Şehirler arasında seyahat etmek için geçen toplam süreyi saat cinsinden gösteren sürekli bir özellik.\n",
        "* 10)Kalan Gün: Bu, seyahat tarihinin rezervasyon tarihinden çıkarılmasıyla hesaplanan türetilmiş bir özelliktir.\n",
        "* 11) Fiyat: Hedef değişken, bilet fiyatı bilgisini saklar.\n",
        "\n"
      ],
      "metadata": {
        "id": "6k1yNM3BV81q"
      }
    },
    {
      "cell_type": "markdown",
      "source": [
        "## Analysis Content \n",
        "\n",
        "* 1.[Python Libraries](#1)\n",
        "* 2.[data loading](#2)\n",
        "* 3.[EDA](#3)\n",
        "* 4.[data Preprocessing](#4)\n",
        "* 5.[Modelling](#5) \n",
        "* 6.[LGBM](#6) \n",
        "* 7.[LGBM](#7)\n",
        "* 8.[Conclusşon](#8)\n",
        "\n"
      ],
      "metadata": {
        "id": "u-_r4kl9YrQj"
      }
    },
    {
      "cell_type": "markdown",
      "source": [
        "<a id=\"1\"></a>\n",
        "## 1.Python Libraries"
      ],
      "metadata": {
        "id": "QXEMBK3SYwpo"
      }
    },
    {
      "cell_type": "code",
      "source": [
        "#Let's load the relevant libraries (İlgili kütüphaneleri yükleyelim);\n",
        "\n",
        "import numpy as np \n",
        "import pandas as pd\n",
        "from sklearn.model_selection import train_test_split,GridSearchCV,RandomizedSearchCV\n",
        "from sklearn.metrics import mean_squared_error,r2_score\n",
        "import matplotlib.pyplot as plt\n",
        "import seaborn as sns\n",
        "import plotly.express as px\n",
        "from sklearn.preprocessing import scale\n",
        "from sklearn.preprocessing import StandardScaler\n",
        "from sklearn import model_selection\n",
        "from sklearn.linear_model import Ridge,Lasso,RidgeCV,LassoCV,ElasticNet,ElasticNetCV,LinearRegression\n",
        "from sklearn.tree import DecisionTreeRegressor\n",
        "from sklearn.neighbors import KNeighborsRegressor\n",
        "from sklearn.neural_network import MLPRegressor\n",
        "from sklearn.ensemble import RandomForestRegressor\n",
        "from sklearn.ensemble import GradientBoostingRegressor\n",
        "from sklearn.ensemble import AdaBoostRegressor\n",
        "from sklearn import neighbors\n",
        "from sklearn.svm import SVR\n",
        "import warnings\n",
        "warnings.filterwarnings(\"ignore\")"
      ],
      "metadata": {
        "id": "trfb6m9JPWtl"
      },
      "execution_count": null,
      "outputs": []
    },
    {
      "cell_type": "markdown",
      "source": [
        "<a id=\"2\"></a>\n",
        "## 2.Data Loading"
      ],
      "metadata": {
        "id": "x9A27IWuZ-Mf"
      }
    },
    {
      "cell_type": "code",
      "source": [
        "df=pd.read_csv(\"/content/Clean_Dataset.csv\")\n",
        "df.head()"
      ],
      "metadata": {
        "id": "liBj-N64Y2Tt"
      },
      "execution_count": null,
      "outputs": []
    },
    {
      "cell_type": "code",
      "source": [
        "df.tail()"
      ],
      "metadata": {
        "id": "OBH_fJZWaKNu"
      },
      "execution_count": null,
      "outputs": []
    },
    {
      "cell_type": "markdown",
      "source": [
        "<a id=\"3\"></a>\n",
        "## 3.EDA"
      ],
      "metadata": {
        "id": "w6LpH8JkabCw"
      }
    },
    {
      "cell_type": "code",
      "source": [
        "df.shape"
      ],
      "metadata": {
        "id": "Q-uqwCQJaUCl"
      },
      "execution_count": null,
      "outputs": []
    },
    {
      "cell_type": "code",
      "source": [
        "# verisetimiz 39481 gözlem ve 12 öznitelikten oluşmaktadır\n",
        "# our dataset consists of 39481 observations and 12 attributes"
      ],
      "metadata": {
        "id": "Of_qFlvwaeks"
      },
      "execution_count": null,
      "outputs": []
    },
    {
      "cell_type": "code",
      "source": [
        "df.columns"
      ],
      "metadata": {
        "id": "GqQ7tM5garjR"
      },
      "execution_count": null,
      "outputs": []
    },
    {
      "cell_type": "code",
      "source": [
        "#kolonların isimlerini düzeltelim,boşlukları kaldıralım,gereksiz kolnları kaldıralım\n",
        "#fix the names of the columns, remove the spaces, remove the unnecessary columns"
      ],
      "metadata": {
        "id": "Ngff_Vada1ma"
      },
      "execution_count": null,
      "outputs": []
    },
    {
      "cell_type": "code",
      "source": [
        "# Unnamed: 0 kolonunu kaldıralım;\n",
        "df.drop(\"Unnamed: 0\",axis=1,inplace=True)"
      ],
      "metadata": {
        "id": "okbJjNZDGGYa"
      },
      "execution_count": null,
      "outputs": []
    },
    {
      "cell_type": "code",
      "source": [
        "#information about dataset structure\n",
        "\n",
        "df.info()"
      ],
      "metadata": {
        "id": "PhHydnGJbgWf"
      },
      "execution_count": null,
      "outputs": []
    },
    {
      "cell_type": "code",
      "source": [
        "\n",
        "# Verisetimiz 8 kategorik değişken ve 3 sayısal değişkenden oluşmaktadır\n",
        "# Our dataset consists of 8 categorical variables and 3 numerical variables"
      ],
      "metadata": {
        "id": "iWOe_RmNGEGo"
      },
      "execution_count": null,
      "outputs": []
    },
    {
      "cell_type": "code",
      "source": [
        "\n",
        "# statistical summary\n",
        "\n",
        "df.describe().T"
      ],
      "metadata": {
        "id": "ruAbOXVUGrMc"
      },
      "execution_count": null,
      "outputs": []
    },
    {
      "cell_type": "code",
      "source": [
        "# istatistiksel özetlere erişmiş olduk"
      ],
      "metadata": {
        "id": "v7JPKgxsGyrw"
      },
      "execution_count": null,
      "outputs": []
    },
    {
      "cell_type": "code",
      "source": [
        "df.airline.value_counts()"
      ],
      "metadata": {
        "id": "5PI0r-sqG7ik"
      },
      "execution_count": null,
      "outputs": []
    },
    {
      "cell_type": "code",
      "source": [
        "# 6 farklı hava yoluna ait değerlere ulaştık ,en çok Vistora havaalanında yolcu taşınmış\n",
        "# We reached the values ​​of 6 different airlines, the most passengers were transported at Vistora airport"
      ],
      "metadata": {
        "id": "wJn2m0idHaaQ"
      },
      "execution_count": null,
      "outputs": []
    },
    {
      "cell_type": "code",
      "source": [
        "df.flight.value_counts()"
      ],
      "metadata": {
        "id": "Gfwlv68wHtZH"
      },
      "execution_count": null,
      "outputs": []
    },
    {
      "cell_type": "code",
      "source": [
        "# uçuş kodları ile ilgili değerlere ulaştık\n",
        "# we have reached values ​​related to flight codes"
      ],
      "metadata": {
        "id": "OX59klSKHzMa"
      },
      "execution_count": null,
      "outputs": []
    },
    {
      "cell_type": "code",
      "source": [
        "df.source_city.value_counts()"
      ],
      "metadata": {
        "id": "5uEa9dsAIChd"
      },
      "execution_count": null,
      "outputs": []
    },
    {
      "cell_type": "code",
      "source": [
        "df.departure_time.value_counts()"
      ],
      "metadata": {
        "id": "QPpln963INY0"
      },
      "execution_count": null,
      "outputs": []
    },
    {
      "cell_type": "code",
      "source": [
        "# Uçakların kalktıkları zaman dilimlerine ulaşmış olduk,buradan en çok yolcunun akşam taşındığını çıkartabiliriz\n",
        "# We have reached the time zones where the planes take off, from here we can deduce that the most passengers are carried in the evening"
      ],
      "metadata": {
        "id": "4yfHqXB0KV09"
      },
      "execution_count": null,
      "outputs": []
    },
    {
      "cell_type": "code",
      "source": [
        "df.stops.value_counts()"
      ],
      "metadata": {
        "id": "C6ZaW04-KqoE"
      },
      "execution_count": null,
      "outputs": []
    },
    {
      "cell_type": "code",
      "source": [
        "# uçağın  gidilecek şehre giderken durak sayısını ifade eder,çoğunlukla uçak bir kez durmuş\n",
        "# refers to the number of stops on the way to the destination city, mostly the plane stopped once"
      ],
      "metadata": {
        "id": "KixXN85pLHVD"
      },
      "execution_count": null,
      "outputs": []
    },
    {
      "cell_type": "code",
      "source": [
        "df.arrival_time.value_counts()"
      ],
      "metadata": {
        "id": "GhWUaBTYLdr9"
      },
      "execution_count": null,
      "outputs": []
    },
    {
      "cell_type": "code",
      "source": [
        "# uçağın varış zamanlarına erişmiş olduk ,en çok gece varmış uçaklar\n",
        "# we have reached the arrival times of the planes, the planes arrive at night the most"
      ],
      "metadata": {
        "id": "W92xQO6ILks-"
      },
      "execution_count": null,
      "outputs": []
    },
    {
      "cell_type": "code",
      "source": [
        "df.destination_city.value_counts()"
      ],
      "metadata": {
        "id": "moJm2GxhL2Qq"
      },
      "execution_count": null,
      "outputs": []
    },
    {
      "cell_type": "code",
      "source": [
        "# uçakların gittiği şehirlere ulaşmış olduk ,en çok uçak delhiden Bangalora ya gitmiş\n",
        "# we have reached the cities where the planes go, the most planes went from delhi to Bangalora"
      ],
      "metadata": {
        "id": "Sivf6IJzMCNl"
      },
      "execution_count": null,
      "outputs": []
    },
    {
      "cell_type": "code",
      "source": [
        "df[\"class\"].value_counts()"
      ],
      "metadata": {
        "id": "90GOZmYXMYS6"
      },
      "execution_count": null,
      "outputs": []
    },
    {
      "cell_type": "code",
      "source": [
        "df.sort_values(\"duration\",ascending=False).head(20)"
      ],
      "metadata": {
        "id": "bgqDUm0KM7h7"
      },
      "execution_count": null,
      "outputs": []
    },
    {
      "cell_type": "code",
      "source": [
        "# en uzun uçuşlara erişmiş olduk,şimdi n kısa uçuş sürelerine erişelim(ilk 20)"
      ],
      "metadata": {
        "id": "5XqFrI5bNQp2"
      },
      "execution_count": null,
      "outputs": []
    },
    {
      "cell_type": "code",
      "source": [
        "df.sort_values(\"duration\").head(20)"
      ],
      "metadata": {
        "id": "-USlbqIrNeav"
      },
      "execution_count": null,
      "outputs": []
    },
    {
      "cell_type": "markdown",
      "source": [
        " * en uzun uçuş;Air_India dan Hyderabad şehrine gerçekleşmiş gece uçmuş 2 den fazla kez durmuş 9831 rupi ödenmiş,en kısa uçuş Air_India dan Hyderabad a sabah gerçekleşmiş uçak hiç durmamış 2098 rupi ödenmiş\n",
        "\n",
        " * longest flight from Air_India to Hyderabad flew at night stopped more than 2 times paid 9831 rupees, shortest flight from Air_India to Hyderabad in the morning never stopped paid 2098 rupees"
      ],
      "metadata": {
        "id": "fdOtqiwAOKQ4"
      }
    },
    {
      "cell_type": "code",
      "source": [
        "# uçuştan önce fiyatlar nasıl değişiyor,gözlemleyelim;\n",
        "# Let's observe how the prices change before the flight;"
      ],
      "metadata": {
        "id": "oj4tzH7fNmmn"
      },
      "execution_count": null,
      "outputs": []
    },
    {
      "cell_type": "code",
      "source": [
        "df.sort_values(\"days_left\",ascending=False).head(15)"
      ],
      "metadata": {
        "id": "UutWFpnJPPRF"
      },
      "execution_count": null,
      "outputs": []
    },
    {
      "cell_type": "code",
      "source": [
        "df.sort_values(\"days_left\",ascending=True).head(15)"
      ],
      "metadata": {
        "id": "lm_CPvhxPShQ"
      },
      "execution_count": null,
      "outputs": []
    },
    {
      "cell_type": "code",
      "source": [
        "# şuradam şunu çıkartabiliriz günler öncesinden yapılan rezervasyon la uçak bileti daha uygun alınmış(1gün öncesinde çok pahalı,49 öncesinde çok uygun)\n",
        "# here we can find out that the flight ticket was bought more conveniently with the reservation made days in advance(it is very expensive 1 day before, very affordable before 49)"
      ],
      "metadata": {
        "id": "RSByhtYqPlaD"
      },
      "execution_count": null,
      "outputs": []
    },
    {
      "cell_type": "code",
      "source": [
        "# mesela sadece 49 gün önceden yapılmış rezervasyonlara erişelim\n",
        "# for example let's only access reservations made 49 days in advance"
      ],
      "metadata": {
        "id": "0pYr82JUQNqc"
      },
      "execution_count": null,
      "outputs": []
    },
    {
      "cell_type": "code",
      "source": [
        "df[df.days_left==49]"
      ],
      "metadata": {
        "id": "fp1x5CQrQeSO"
      },
      "execution_count": null,
      "outputs": []
    },
    {
      "cell_type": "code",
      "source": [
        "# verisetindeki 744 yolcu 49 öncesinden rezervasyon yapıp uyguna uçmayı tercih etmiş\n",
        "#744 passengers in the # dataset made a reservation 49 ahead of time and preferred to fly to the appropriate"
      ],
      "metadata": {
        "id": "fmtSlUQJQirU"
      },
      "execution_count": null,
      "outputs": []
    },
    {
      "cell_type": "code",
      "source": [
        "# 1 gün önceki rezervasyonlara bakalım;\n",
        "\n",
        "df[df.days_left==1]"
      ],
      "metadata": {
        "id": "4y5d4-qqQ0gc"
      },
      "execution_count": null,
      "outputs": []
    },
    {
      "cell_type": "code",
      "source": [
        "# Verisetindeki 464 yolcu son gün rzervasyon yapmış ve daha çok ücret ödemiş\n",
        "# 464 passengers in the dataset booked on the last day and paid more"
      ],
      "metadata": {
        "id": "Urh7rmMdQ9M6"
      },
      "execution_count": null,
      "outputs": []
    },
    {
      "cell_type": "code",
      "source": [
        "# en uzun süren seferlere bakalım\n",
        "# look at the longest voyages;\n",
        "\n",
        "df[df.duration==1.92]"
      ],
      "metadata": {
        "id": "4IuTXTZJRM5N"
      },
      "execution_count": null,
      "outputs": []
    },
    {
      "cell_type": "code",
      "source": [
        "# şimdi en uygun ve en pahalı uçuşlar için verisetimizi inceleyelim;\n",
        "# now let's examine our dataset for the most convenient and most expensive flights;\n",
        "\n"
      ],
      "metadata": {
        "id": "NVOKp_xzRmOb"
      },
      "execution_count": null,
      "outputs": []
    },
    {
      "cell_type": "code",
      "source": [
        "df.sort_values(\"price\",ascending=True).head(15)  # most convenient 15"
      ],
      "metadata": {
        "id": "VrPxFKxzSBuE"
      },
      "execution_count": null,
      "outputs": []
    },
    {
      "cell_type": "code",
      "source": [
        "# en uygun uçuşlar  için 1998 rupi ödenmiş,günler öncesinden rezervasyon yapılmış(en az 15 gün öncesinden)\n",
        "# paid 1998 rupees for most affordable flights, booked days in advance (minimum 15 days in advance)"
      ],
      "metadata": {
        "id": "GlbtzzhoSHvY"
      },
      "execution_count": null,
      "outputs": []
    },
    {
      "cell_type": "code",
      "source": [
        "df.sort_values(\"price\",ascending=False).head(15) # most expensive 15"
      ],
      "metadata": {
        "id": "lz7zTYzXSjNB"
      },
      "execution_count": null,
      "outputs": []
    },
    {
      "cell_type": "code",
      "source": [
        "# en pahalı uçuş için 35145 rupi ödenmiş ve 2 gün öncesinden uçuş için rezervasyon yapılmış\n",
        "# paid 35145 rupees for the most expensive flight and booked the flight 2 days in advance"
      ],
      "metadata": {
        "id": "O_zCVv1ASyjZ"
      },
      "execution_count": null,
      "outputs": []
    },
    {
      "cell_type": "code",
      "source": [
        "df.groupby(\"airline\")[\"price\"].describe().T"
      ],
      "metadata": {
        "id": "TIp98hT7TJBQ"
      },
      "execution_count": null,
      "outputs": []
    },
    {
      "cell_type": "markdown",
      "source": [
        "* Buradan 7 farklı hava yolu şirketinin en düşük,en yüksek ortalama vs gibi istatistiksel özelliklere eriştik\n",
        "\n",
        "* From here, we have accessed statistical features such as lowest, highest average etc. of 7 different airline companies."
      ],
      "metadata": {
        "id": "fFqxvkDCUmhD"
      }
    },
    {
      "cell_type": "code",
      "source": [
        "df.groupby(\"departure_time\").describe().T"
      ],
      "metadata": {
        "id": "6hfNaNvcUQXH"
      },
      "execution_count": null,
      "outputs": []
    },
    {
      "cell_type": "code",
      "source": [
        "# buradan uçuş zamanları çeşitli istatistiksel özelliklere erişmiş olduk\n",
        "# from here we have access to various statistical features of flight times"
      ],
      "metadata": {
        "id": "HeQVu4vIVmIQ"
      },
      "execution_count": null,
      "outputs": []
    },
    {
      "cell_type": "code",
      "source": [
        "df.groupby(\"destination_city\")[\"price\"].describe().T"
      ],
      "metadata": {
        "id": "pBZU0QGvWZEg"
      },
      "execution_count": null,
      "outputs": []
    },
    {
      "cell_type": "code",
      "source": [
        "# burada uçuş yapılan 6 farklı il ile ilgili istatistiklere erişmiş olduk(kaç tane uçuş yapılmış,ortalama ödenen ücret,min ücret max ücret vs)\n",
        "# we have accessed statistics about 6 different cities where flights were made (how many flights were made, average paid fare, min fare, max fare etc.)"
      ],
      "metadata": {
        "id": "VUCgIbtXWleK"
      },
      "execution_count": null,
      "outputs": []
    },
    {
      "cell_type": "markdown",
      "source": [
        "<a id=\"4\"></a>\n",
        "## 4.Data Preprocessing"
      ],
      "metadata": {
        "id": "lHLqGU2eZAVZ"
      }
    },
    {
      "cell_type": "code",
      "source": [
        "# missing values query\n",
        "\n",
        "df.isna().sum()"
      ],
      "metadata": {
        "id": "wvcTDBKnXDh4"
      },
      "execution_count": null,
      "outputs": []
    },
    {
      "cell_type": "code",
      "source": [
        "# Verisetimizde her değişkende birer tane eksik değer var\n",
        "# There is one missing value in each variable in our dataset"
      ],
      "metadata": {
        "id": "jwpuG-QuZNd7"
      },
      "execution_count": null,
      "outputs": []
    },
    {
      "cell_type": "code",
      "source": [
        "# sayısal ve kategorik değerler için birer liste oluşturalım\n",
        "# create a list for numeric and categorical values"
      ],
      "metadata": {
        "id": "JdMGHeU3ZYxQ"
      },
      "execution_count": null,
      "outputs": []
    },
    {
      "cell_type": "code",
      "source": [
        "cat_list=[\"airline\",\"flight\",\"source_city\",\"departure_time\",\"stops\",\"arrival_time\",\"destination_city\",\"class\",\"days_left\"]\n",
        "num_list=[\"price\",\"duration\"]"
      ],
      "metadata": {
        "id": "sAMIZcAmacSR"
      },
      "execution_count": null,
      "outputs": []
    },
    {
      "cell_type": "code",
      "source": [
        "num_list"
      ],
      "metadata": {
        "id": "3ZQwXDgPadvy"
      },
      "execution_count": null,
      "outputs": []
    },
    {
      "cell_type": "code",
      "source": [
        "cat_list"
      ],
      "metadata": {
        "id": "AowN4lvgagx5"
      },
      "execution_count": null,
      "outputs": []
    },
    {
      "cell_type": "code",
      "source": [
        "# sayısal değişkenlerin dağılımlarını inceleyelim\n",
        "# let's examine the distributions of numeric variables;\n",
        "\n",
        "k=1\n",
        "plt.figure(figsize=(6,6))\n",
        "plt.tight_layout()\n",
        "plt.suptitle(\"distribution of numerical values\")\n",
        "\n",
        "\n",
        "for i in df.loc[:,num_list]:\n",
        "    plt.subplot(2,1,k)\n",
        "    sns.distplot(df[i])   \n",
        "    plt.title(i)\n",
        "    k+=1"
      ],
      "metadata": {
        "id": "Ck9TBPdRd_Zq"
      },
      "execution_count": null,
      "outputs": []
    },
    {
      "cell_type": "code",
      "source": [
        "\n",
        "# eksik değerleri giderelim,sayı az olduğu için (sadece 1  tane) direk silebiliriz\n",
        "# remove missing values, since the number is small (only 1), we can delete it directly\n",
        "\n",
        "df.dropna(inplace=True)"
      ],
      "metadata": {
        "id": "LC7nZ2Meffvw"
      },
      "execution_count": null,
      "outputs": []
    },
    {
      "cell_type": "code",
      "source": [
        "df.isna().sum()"
      ],
      "metadata": {
        "id": "FJq0OwO_f-ua"
      },
      "execution_count": null,
      "outputs": []
    },
    {
      "cell_type": "code",
      "source": [
        "# eksik değerleri gidermiş olduk\n",
        "# we have fixed the missing values\n"
      ],
      "metadata": {
        "id": "Ky7s2o29gcQl"
      },
      "execution_count": null,
      "outputs": []
    },
    {
      "cell_type": "markdown",
      "source": [
        "### Outlier Problem"
      ],
      "metadata": {
        "id": "SPuWAMArg06M"
      }
    },
    {
      "cell_type": "code",
      "source": [
        "\n",
        "for i in df.loc[:,num_list]:\n",
        "    Q1 = df[i].quantile(0.1)\n",
        "    Q3 = df[i].quantile(0.9)\n",
        "    IQR = Q3-Q1\n",
        "    up = Q3 + 1.5*IQR\n",
        "    low = Q1 - 1.5*IQR\n",
        "\n",
        "    if df[(df[i] > up) | (df[i] < low)].any(axis=None):\n",
        "        print(i,\"yes\")\n",
        "    else:\n",
        "        print(i, \"no\")\n",
        "     "
      ],
      "metadata": {
        "id": "mnoQfN57gnTS"
      },
      "execution_count": null,
      "outputs": []
    },
    {
      "cell_type": "code",
      "source": [
        "k=1\n",
        "plt.figure(figsize=(10,10))\n",
        "plt.suptitle(\"Distribution of Outliers\")\n",
        "plt.tight_layout()\n",
        "\n",
        "for i in df.loc[:,num_list]:\n",
        "    plt.subplot(3,2,k)\n",
        "    sns.boxplot(x = i, data = df.loc[:,num_list],)\n",
        "    plt.title(i)\n",
        "    k+=1\n",
        "     \n"
      ],
      "metadata": {
        "id": "h44u49kghVi1"
      },
      "execution_count": null,
      "outputs": []
    },
    {
      "cell_type": "markdown",
      "source": [
        "* aykırı değerler göünüyor lakin detaylıca incelediğimizde aykırı değer olmadığını düşünebiliriz örneğin ,fiyat 1 gün önceden rezervasyon yapıldğında çok pahalı,günler öncesinde rezervasyon yapıldığında çok ucuza geliyor\n",
        "\n",
        "*  outliers are visible, but when we examine in detail, we can think that there is no outlier, for example, the price is very expensive when booked 1 day in advance, very cheap when booked days in advance"
      ],
      "metadata": {
        "id": "oBTF3-b3h8ZU"
      }
    },
    {
      "cell_type": "markdown",
      "source": [
        "### Data Visualize"
      ],
      "metadata": {
        "id": "p1DJC3pZlqeD"
      }
    },
    {
      "cell_type": "code",
      "source": [
        "#categoric analysis\n",
        "\n",
        "for i in cat_list:\n",
        "    \n",
        "    plt.figure(figsize=(12,12))\n",
        "    sns.countplot(x=i,data=df.loc[:,cat_list])\n",
        "    plt.title(i)"
      ],
      "metadata": {
        "id": "Ovmot-VwhcOE"
      },
      "execution_count": null,
      "outputs": []
    },
    {
      "cell_type": "code",
      "source": [
        "#numeric\n",
        "sns.pairplot(df.loc[:,num_list]);"
      ],
      "metadata": {
        "id": "OYvpsqSumYIw"
      },
      "execution_count": null,
      "outputs": []
    },
    {
      "cell_type": "code",
      "source": [
        "# histogram\n",
        "df.hist(figsize=(6,6));"
      ],
      "metadata": {
        "id": "fjWgWiXumm6u"
      },
      "execution_count": null,
      "outputs": []
    },
    {
      "cell_type": "code",
      "source": [
        "plt.figure(figsize=(15,15))\n",
        "plt.subplot(4,3,1)\n",
        "sns.scatterplot(x ='price',y ='duration',hue=\"airline\",data = df)\n",
        "plt.subplot(4,3,2)\n",
        "sns.scatterplot(x=\"price\",y=\"duration\",hue=\"class\",data=df)\n",
        "plt.subplot(4,3,3)\n",
        "sns.scatterplot(x=\"price\",y=\"duration\",hue=\"stops\",data=df)\n",
        "plt.subplot(4,3,4)\n",
        "sns.scatterplot(x=\"price\",y=\"duration\",hue=\"arrival_time\",data=df)\n",
        "plt.subplot(4,3,5)\n",
        "sns.boxplot(x=\"airline\",y=\"price\",hue=\"class\",data=df)\n",
        "plt.subplot(4,3,6)\n",
        "sns.boxplot(x=\"source_city\",y=\"price\",hue=\"stops\",data=df)\n",
        "plt.subplot(4,3,7)\n",
        "sns.boxplot(x=\"source_city\",y=\"duration\",hue=\"class\",data=df)\n",
        "plt.subplot(4,3,8)\n",
        "sns.boxplot(x=\"destination_city\",y=\"price\",hue=\"class\",data=df)\n",
        "plt.subplot(4,3,9)\n",
        "sns.boxplot(x=\"arrival_time\",y=\"price\",hue=\"stops\",data=df)\n",
        "plt.subplot(4,3,10)\n",
        "sns.boxplot(x=\"departure_time\",y=\"price\",hue=\"stops\",data=df)\n",
        "plt.subplot(4,3,11)\n",
        "sns.barplot(x=\"airline\",y=\"price\",hue=\"stops\",data=df)\n",
        "plt.subplot(4,3,12)\n",
        "sns.barplot(x=\"arrival_time\",y=\"duration\",hue=\"stops\",data=df)\n",
        "plt.show()\n",
        "\n",
        "\n"
      ],
      "metadata": {
        "id": "t5UhYicdmxIK"
      },
      "execution_count": null,
      "outputs": []
    },
    {
      "cell_type": "markdown",
      "source": [
        "### Encoding"
      ],
      "metadata": {
        "id": "FEKPBQOEya7J"
      }
    },
    {
      "cell_type": "code",
      "source": [
        "from sklearn.preprocessing import LabelEncoder"
      ],
      "metadata": {
        "id": "DExRXjO-s8N9"
      },
      "execution_count": null,
      "outputs": []
    },
    {
      "cell_type": "code",
      "source": [
        "le=LabelEncoder()\n"
      ],
      "metadata": {
        "id": "bNm3pa7xzJ_M"
      },
      "execution_count": null,
      "outputs": []
    },
    {
      "cell_type": "code",
      "source": [
        "df.head()"
      ],
      "metadata": {
        "id": "ajknJh-Bz0yW"
      },
      "execution_count": null,
      "outputs": []
    },
    {
      "cell_type": "code",
      "source": [
        "df[\"airline\"]=le.fit_transform(df[\"airline\"])"
      ],
      "metadata": {
        "id": "fS9hw0_gzWRl"
      },
      "execution_count": null,
      "outputs": []
    },
    {
      "cell_type": "code",
      "source": [
        "df[\"flight\"]=le.fit_transform(df[\"flight\"])\n",
        "df[\"source_city\"]=le.fit_transform(df[\"source_city\"])\n",
        "df[\"departure_time\"]=le.fit_transform(df[\"departure_time\"])\n",
        "df[\"stops\"]=le.fit_transform(df[\"stops\"])\n",
        "df[\"arrival_time\"]=le.fit_transform(df[\"arrival_time\"])\n",
        "df[\"destination_city\"]=le.fit_transform(df[\"destination_city\"])\n",
        "df[\"class\"]=le.fit_transform(df[\"class\"])"
      ],
      "metadata": {
        "id": "Rz1YrLo40Kbp"
      },
      "execution_count": null,
      "outputs": []
    },
    {
      "cell_type": "code",
      "source": [
        "df"
      ],
      "metadata": {
        "id": "pp55XYJQ0D3o"
      },
      "execution_count": null,
      "outputs": []
    },
    {
      "cell_type": "code",
      "source": [
        "# string değer taşıyan sutunları sayısal değerlere dönüştürdük\n",
        "# we converted columns with string values ​​to numeric values"
      ],
      "metadata": {
        "id": "G0R0ckpW0Fpn"
      },
      "execution_count": null,
      "outputs": []
    },
    {
      "cell_type": "markdown",
      "source": [
        "### Corelation Analysis"
      ],
      "metadata": {
        "id": "raMsZmzN2kuV"
      }
    },
    {
      "cell_type": "code",
      "source": [
        "plt.figure(figsize=(12,12))\n",
        "sns.heatmap(df.corr(),annot=True,linewidths=0.7,cmap=\"coolwarm\",fmt=\".2f\")\n",
        "plt.show()"
      ],
      "metadata": {
        "id": "lSLTvxMP1KYQ"
      },
      "execution_count": null,
      "outputs": []
    },
    {
      "cell_type": "code",
      "source": [
        "cor=df.corr()[\"price\"].sort_values(ascending=False)\n",
        "pd.DataFrame({\"column\":cor.index,\"Correlation with a\":cor.values})\n"
      ],
      "metadata": {
        "id": "rg5qQf1g3LSK"
      },
      "execution_count": null,
      "outputs": []
    },
    {
      "cell_type": "code",
      "source": [
        "df.corr()[\"price\"].sort_values().plot(kind=\"bar\");\n"
      ],
      "metadata": {
        "id": "4iET70Mq4RIS"
      },
      "execution_count": null,
      "outputs": []
    },
    {
      "cell_type": "code",
      "source": [
        "# bir kaç teknik kullanacğım ,verisetinin birkaç kopyasını alalım\n",
        "# i will use a few techniques, let's make a few copies of the dataset"
      ],
      "metadata": {
        "id": "FDdQl1S43gM9"
      },
      "execution_count": null,
      "outputs": []
    },
    {
      "cell_type": "code",
      "source": [
        "df2=df.copy()\n",
        "df3=df.copy()"
      ],
      "metadata": {
        "id": "3pPlkT1f39Nn"
      },
      "execution_count": null,
      "outputs": []
    },
    {
      "cell_type": "markdown",
      "source": [
        "<a id=\"5\"></a>\n",
        "## 5.Modelling"
      ],
      "metadata": {
        "id": "SDdDG7-F4lTc"
      }
    },
    {
      "cell_type": "code",
      "source": [
        "# 1.verisetinin  yapısını bozmadan modellerimizi karşılaştıralım\n",
        "# Let's compare our models without breaking the structure of the 1st dataset."
      ],
      "metadata": {
        "id": "tbeFZ7Qe4FYn"
      },
      "execution_count": null,
      "outputs": []
    },
    {
      "cell_type": "code",
      "source": [
        "X=df.drop(\"price\",axis=1)\n",
        "y=df[\"price\"]"
      ],
      "metadata": {
        "id": "1IflotYa8hso"
      },
      "execution_count": null,
      "outputs": []
    },
    {
      "cell_type": "code",
      "source": [
        "#train-test split\n",
        "\n",
        "X_train,X_test,y_train,y_test=train_test_split(X,y,test_size=0.25,random_state=0)\n",
        "     "
      ],
      "metadata": {
        "id": "5ix6Vtvl9CG_"
      },
      "execution_count": null,
      "outputs": []
    },
    {
      "cell_type": "code",
      "source": [
        "!pip install --pre pycaret"
      ],
      "metadata": {
        "id": "juuKjkq9_K89"
      },
      "execution_count": null,
      "outputs": []
    },
    {
      "cell_type": "code",
      "source": [
        "from pycaret.regression import * \n"
      ],
      "metadata": {
        "id": "EfBWShuP92tI"
      },
      "execution_count": null,
      "outputs": []
    },
    {
      "cell_type": "code",
      "source": [
        "reg1 = setup(data=df,target = 'price')"
      ],
      "metadata": {
        "id": "dHb2x6ga_fA5"
      },
      "execution_count": null,
      "outputs": []
    },
    {
      "cell_type": "code",
      "source": [
        "# tüm modellerin karşılaştırılması\n",
        "\n",
        "best = compare_models()"
      ],
      "metadata": {
        "id": "GvFmiPS9_tCv"
      },
      "execution_count": null,
      "outputs": []
    },
    {
      "cell_type": "code",
      "source": [
        "# çok yüksek başarı oranları verdi"
      ],
      "metadata": {
        "id": "AUNPCAwGEmz0"
      },
      "execution_count": null,
      "outputs": []
    },
    {
      "cell_type": "code",
      "source": [
        "#2.yaklaşım korelasyonları yüksek olan atıp modelleri test edelim;\n",
        "#2. Let's test the models with high approximation correlations;\n",
        "     "
      ],
      "metadata": {
        "id": "RBeX7L2oDs_n"
      },
      "execution_count": null,
      "outputs": []
    },
    {
      "cell_type": "code",
      "source": [
        "# class kolonunu kaldıralım\n",
        "# remove the class column"
      ],
      "metadata": {
        "id": "BOY-ama3GVk-"
      },
      "execution_count": null,
      "outputs": []
    },
    {
      "cell_type": "code",
      "source": [
        "#df2.drop(\"class\",axis=1,inplace=True)\n",
        "\n",
        "#df2.head(2)"
      ],
      "metadata": {
        "id": "OC_mc-jMG0j3"
      },
      "execution_count": null,
      "outputs": []
    },
    {
      "cell_type": "code",
      "source": [
        "# model\n",
        "#X2=df2.drop(\"price\",axis=1)\n",
        "#y2=df2[\"price\"]"
      ],
      "metadata": {
        "id": "_2ZKmFVGHFjC"
      },
      "execution_count": null,
      "outputs": []
    },
    {
      "cell_type": "code",
      "source": [
        "#X_train,X_test,y_train,y_test=train_test_split(X2,y2,test_size=0.25,random_state=0)\n"
      ],
      "metadata": {
        "id": "KeKL7e46HSY7"
      },
      "execution_count": null,
      "outputs": []
    },
    {
      "cell_type": "code",
      "source": [
        "#reg2 = setup(data=df2,target = 'price')"
      ],
      "metadata": {
        "id": "4bqNf21RHexk"
      },
      "execution_count": null,
      "outputs": []
    },
    {
      "cell_type": "code",
      "source": [
        "# tüm modellerin karşılaştırılması\n",
        "\n",
        "#best = compare_models()"
      ],
      "metadata": {
        "id": "Adh6_kWHHn1Q"
      },
      "execution_count": null,
      "outputs": []
    },
    {
      "cell_type": "code",
      "source": [
        "#bu şekilde başarı oranımız çok düştü,önceki model üzerinden gidelim\n",
        "#our success rate dropped a lot this way, let's go over the previous model"
      ],
      "metadata": {
        "id": "FUO6DF_ZHwak"
      },
      "execution_count": null,
      "outputs": []
    },
    {
      "cell_type": "code",
      "source": [
        "# 3.yaklaşımm;standartlaştırma işlemi uygulayalım;\n",
        "# My 3rd approach; let's apply the standardization process;"
      ],
      "metadata": {
        "id": "vzl_OHooM_Dd"
      },
      "execution_count": null,
      "outputs": []
    },
    {
      "cell_type": "code",
      "source": [
        "# model\n",
        "#X3=df3.drop(\"price\",axis=1)\n",
        "#y3=df3[\"price\"]"
      ],
      "metadata": {
        "id": "61suYYJ3TM1N"
      },
      "execution_count": null,
      "outputs": []
    },
    {
      "cell_type": "code",
      "source": [
        "#X_train,X_test,y_train,y_test=train_test_split(X3,y3,test_size=0.25,random_state=0)\n"
      ],
      "metadata": {
        "id": "kLc5fmbrTUlo"
      },
      "execution_count": null,
      "outputs": []
    },
    {
      "cell_type": "code",
      "source": [
        "#reg3 = setup(data=df3,target = 'price')"
      ],
      "metadata": {
        "id": "UFtMd_AJTUis"
      },
      "execution_count": null,
      "outputs": []
    },
    {
      "cell_type": "code",
      "source": [
        "#regr3= setup(data =df3,target='price',normalize = True,normalize_method=\"robust\",train_size=0.75)"
      ],
      "metadata": {
        "id": "pS8IgZwtNRmi"
      },
      "execution_count": null,
      "outputs": []
    },
    {
      "cell_type": "code",
      "source": [
        "# tüm modellerin karşılaştırılması\n",
        "\n",
        "#best = compare_models()"
      ],
      "metadata": {
        "id": "XzWiRLFYPr9f"
      },
      "execution_count": null,
      "outputs": []
    },
    {
      "cell_type": "markdown",
      "source": [
        "* modellerimizin başarı oranlarını karşılaştırdık,çok yüksek başarı oranları yakaladık,rf için yaklaşık olarak %99 başarı oranı yakaladık onun için optimizasyon işlemi yapmamızı gerektirecek bir durum yok modeli rf üzerinden kurabiliriz (en yüksek başarı oranlarını/oranını ilk durumdaki yaklaşım (df) verdi)\n",
        "\n",
        "\n",
        "* we compared the success rates of our models, we achieved very high success rates, we achieved a success rate of approximately 99% for rf, there is no need for us to perform optimization, we can build the model over rf (the first case approach (df) gave the highest success rates)\n"
      ],
      "metadata": {
        "id": "fFMdEBA2yMZm"
      }
    },
    {
      "cell_type": "code",
      "source": [],
      "metadata": {
        "id": "R0rRShBHyuBI"
      },
      "execution_count": null,
      "outputs": []
    }
  ]
}